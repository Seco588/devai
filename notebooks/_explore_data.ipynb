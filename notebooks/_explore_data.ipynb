{
 "cells": [
  {
   "cell_type": "code",
   "execution_count": null,
   "metadata": {},
   "outputs": [],
   "source": [
    "# Load necessary libraries\n",
    "import numpy as np\n",
    "import pandas as pd\n",
    "import matplotlib.pyplot as plt\n",
    "\n",
    "# Load data\n",
    "df = pd.read_csv(\"data/data.csv\")\n",
    "\n",
    "# Print first 5 rows\n",
    "print(df.head())\n",
    "\n",
    "# Check for missing values\n",
    "print(df.isnull().sum())\n",
    "\n",
    "# Drop missing values\n",
    "df = df.dropna()\n",
    "\n",
    "# Convert categorical variables to dummy variables\n",
    "df = pd.get_dummies(df)\n",
    "\n",
    "# Normalize numerical variables\n",
    "numerical_columns = df.select_dtypes(include=[\"float\", \"int\"]).columns\n",
    "df[numerical_columns] = (df[numerical_columns] - df[numerical_columns].mean()) / df[numerical_columns].std()\n",
    "\n",
    "# Split data into X and y\n",
    "X = df.drop(columns=\"target\")\n",
    "y = df[\"target\"]\n",
    "\n",
    "# Plot histogram for each feature\n",
    "df.hist(figsize=(20, 15))\n",
    "plt.show()\n",
    "\n",
    "# Plot scatterplot matrix\n",
    "pd.plotting.scatter_matrix(df, figsize=(20, 15))\n",
    "plt.show()\n",
    "\n",
    "# Calculate correlations\n",
    "correlations = df.corr()\n",
    "print(correlations)\n",
    "\n",
    "# Plot heatmap of correlations\n",
    "plt.figure(figsize=(20, 15))\n",
    "sns.heatmap(correlations, annot=True)\n",
    "plt.show()\n"
   ]
  }
 ],
 "metadata": {
  "language_info": {
   "name": "python"
  },
  "orig_nbformat": 4
 },
 "nbformat": 4,
 "nbformat_minor": 2
}
