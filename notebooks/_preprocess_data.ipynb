{
 "cells": [
  {
   "cell_type": "code",
   "execution_count": null,
   "metadata": {},
   "outputs": [],
   "source": [
    "# Load necessary libraries\n",
    "import numpy as np\n",
    "import pandas as pd\n",
    "\n",
    "# Load data\n",
    "df = pd.read_csv(\"data/raw_data.csv\")\n",
    "\n",
    "# Print first 5 rows\n",
    "print(df.head())\n",
    "\n",
    "# Check for missing values\n",
    "print(df.isnull().sum())\n",
    "\n",
    "# Drop missing values\n",
    "df = df.dropna()\n",
    "\n",
    "# Convert categorical variables to dummy variables\n",
    "df = pd.get_dummies(df)\n",
    "\n",
    "# Normalize numerical variables\n",
    "numerical_columns = df.select_dtypes(include=[\"float\", \"int\"]).columns\n",
    "df[numerical_columns] = (df[numerical_columns] - df[numerical_columns].mean()) / df[numerical_columns].std()\n",
    "\n",
    "# Split data into X and y\n",
    "X = df.drop(columns=\"target\")\n",
    "y = df[\"target\"]\n",
    "\n",
    "# Split data into train, val, and test sets\n",
    "X_train, X_val, X_test, y_train, y_val, y_test = train_test_split(X, y, test_size=0.2)\n",
    "\n",
    "# Save data\n",
    "np.save(\"data/X_train.npy\", X_train)\n",
    "np.save(\"data/y_train.npy\", y_train)\n",
    "np.save(\"data/X_val.npy\", X_val)\n",
    "np.save(\"data/y_val.npy\", y_val)\n",
    "np.save(\"data/X_test.npy\", X_test)\n",
    "np.save(\"data/y_test.npy\", y_test)"
   ]
  }
 ],
 "metadata": {
  "language_info": {
   "name": "python"
  },
  "orig_nbformat": 4
 },
 "nbformat": 4,
 "nbformat_minor": 2
}
