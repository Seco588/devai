{
 "cells": [
  {
   "cell_type": "code",
   "execution_count": null,
   "metadata": {},
   "outputs": [],
   "source": [
    "# Load necessary libraries\n",
    "import numpy as np\n",
    "import pandas as pd\n",
    "import tensorflow as tf\n",
    "\n",
    "# Load and preprocess data\n",
    "X_train = np.load(\"data/X_train.npy\")\n",
    "y_train = np.load(\"data/y_train.npy\")\n",
    "X_val = np.load(\"data/X_val.npy\")\n",
    "y_val = np.load(\"data/y_val.npy\")\n",
    "\n",
    "# Define model\n",
    "model = tf.keras.Sequential()\n",
    "model.add(tf.keras.layers.Dense(units=64, activation=\"relu\", input_shape=(X_train.shape[1],)))\n",
    "model.add(tf.keras.layers.Dense(units=32, activation=\"relu\"))\n",
    "model.add(tf.keras.layers.Dense(units=16, activation=\"relu\"))\n",
    "model.add(tf.keras.layers.Dense(units=1, activation=\"sigmoid\"))\n",
    "# Compile model\n",
    "model.compile(loss=\"binary_crossentropy\", optimizer=\"adam\", metrics=[\"accuracy\"])\n",
    "Train model\n",
    "\n",
    "history = model.fit(X_train, y_train, validation_data=(X_val, y_val), epochs=10)\n",
    "Evaluate model\n",
    "\n",
    "score = model.evaluate(X_val, y_val, verbose=0)\n",
    "print(\"Validation loss:\", score[0])\n",
    "print(\"Validation accuracy:\", score[1])\n",
    "\n",
    "# Save model\n",
    "model.save(\"models/model.h5\")"
   ]
  }
 ],
 "metadata": {
  "language_info": {
   "name": "python"
  },
  "orig_nbformat": 4
 },
 "nbformat": 4,
 "nbformat_minor": 2
}
